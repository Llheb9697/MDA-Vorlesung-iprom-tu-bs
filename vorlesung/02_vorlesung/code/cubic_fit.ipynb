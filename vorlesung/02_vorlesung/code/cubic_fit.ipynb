{
 "cells": [
  {
   "cell_type": "markdown",
   "metadata": {},
   "source": [
    "# Fit einer kubischen Funktion (Polynom 3. Ordnung)\n",
    "## Erläuterung zu dieser Umgebung\n",
    "- Mit Umschalt + Enter ist es möglich Zellen auszuführen\n",
    "- Zellen können so oft und in beliebiger Reihenfolge ausgeführt werden\n",
    "- Alle Variablen/Objekte werden so lange gespeichert bis ein Kernel-Reset durchgeführt wird\n",
    "- Ausgaben können direkt im Notebook dargestellt werden\n",
    "- Um den Code dieses Notebooks in eine Zelle zu laden muss die Zelle mit dem `%load` Befehl ausgeführt werden"
   ]
  },
  {
   "cell_type": "code",
   "execution_count": 6,
   "metadata": {},
   "outputs": [],
   "source": [
    "%load cubic_fit.m"
   ]
  },
  {
   "cell_type": "code",
   "execution_count": null,
   "metadata": {},
   "outputs": [],
   "source": []
  }
 ],
 "metadata": {
  "anaconda-cloud": {},
  "kernelspec": {
   "display_name": "Octave",
   "language": "octave",
   "name": "octave"
  },
  "language_info": {
   "file_extension": ".m",
   "help_links": [
    {
     "text": "GNU Octave",
     "url": "https://www.gnu.org/software/octave/support.html"
    },
    {
     "text": "Octave Kernel",
     "url": "https://github.com/Calysto/octave_kernel"
    },
    {
     "text": "MetaKernel Magics",
     "url": "https://metakernel.readthedocs.io/en/latest/source/README.html"
    }
   ],
   "mimetype": "text/x-octave",
   "name": "octave",
   "version": "4.2.2"
  }
 },
 "nbformat": 4,
 "nbformat_minor": 2
}
