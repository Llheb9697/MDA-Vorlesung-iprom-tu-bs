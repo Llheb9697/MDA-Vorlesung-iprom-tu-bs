{
 "cells": [
  {
   "cell_type": "markdown",
   "metadata": {},
   "source": [
    "# Fit einer kubischen Funktion (Polynom 3. Ordnung)"
   ]
  },
  {
   "cell_type": "code",
   "execution_count": null,
   "metadata": {},
   "outputs": [],
   "source": [
    "close all; clear all;\n",
    "% Eingabe der Messwertepaare\n",
    "input = [...\n",
    "1, 0.4;...\n",
    "2, 0.55;...\n",
    "3, 0.7;...\n",
    "4, 0.75; ...\n",
    "5, 0.8];\n",
    "m = length(input); % Anzahl der Messpunkte\n",
    "x_Werte = input(:,1);\n",
    "X = [ones(m,1), x_Werte, x_Werte.^2,x_Werte.^3];\n",
    "Y = input(:,2);\n",
    "% Aufstellen der X-Matrix % Aufstellen der Y-Matrix\n",
    "% degree of freedom\n",
    "df = 5-4;\n",
    "% Berechung der Schätzwerte \\thetaHat;\n",
    "% y-Abschnitt = \\thetaHat(1); Steigung = \\thetaHat(2)\n",
    "thetaHat = (X' * X) \\ (X' * Y);\n",
    "% Anzeige der Schätzwerte\n",
    "disp(thetaHat);\n",
    "% Plotten der Fitfunktion\n",
    "xx = linspace(0,6,100);\n",
    "yy = thetaHat(1) + thetaHat(2)*xx+ thetaHat(3)*xx.^2+thetaHat(4)*xx.^3;\n",
    "figure(10)\n",
    "plot(xx, yy,'linewidth',1.5)\n",
    "% Plotten der Datenwerte\n",
    "hold on\n",
    "plot(input(:,1), input(:,2), 'or','linewidth',2, 'MarkerSize',6)\n",
    "hold off\n",
    "grid on;\n",
    "xlabel('Werte X_j','fontsize',14)\n",
    "ylabel('Werte Y_j','fontsize',14)\n",
    "set(gcf, 'PaperUnits', 'centimeters');\n",
    "x_width=15 ;y_width= 9;\n",
    "set(gcf, 'PaperPosition', [0 0 x_width y_width]);\n",
    "print '-dpng' kubischerFit.png\n",
    "% Qualitätsmaß Q\n",
    "Q = (Y-X*thetaHat)' * (Y-X*thetaHat)\n",
    "% Varianzen der Residuen\n",
    "Var_epsilon = 1/df *(Y-X*thetaHat)' * (Y-X*thetaHat)\n",
    "% Wuzel aus Var_epsilon\n",
    "RMSE = sqrt(Var_epsilon)\n",
    "% Kovarianzen\n",
    "Cov = Var_epsilon * inv(X'*X)"
   ]
  },
  {
   "cell_type": "code",
   "execution_count": null,
   "metadata": {},
   "outputs": [],
   "source": []
  }
 ],
 "metadata": {
  "anaconda-cloud": {},
  "kernelspec": {
   "display_name": "Octave",
   "language": "octave",
   "name": "octave"
  },
  "language_info": {
   "file_extension": ".m",
   "help_links": [
    {
     "text": "GNU Octave",
     "url": "https://www.gnu.org/software/octave/support.html"
    },
    {
     "text": "Octave Kernel",
     "url": "https://github.com/Calysto/octave_kernel"
    },
    {
     "text": "MetaKernel Magics",
     "url": "https://github.com/calysto/metakernel/blob/master/metakernel/magics/README.md"
    }
   ],
   "mimetype": "text/x-octave",
   "name": "octave",
   "version": "4.2.2"
  }
 },
 "nbformat": 4,
 "nbformat_minor": 1
}
