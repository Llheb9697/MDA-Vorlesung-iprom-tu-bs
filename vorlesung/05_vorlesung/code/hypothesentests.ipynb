{
 "cells": [
  {
   "cell_type": "markdown",
   "metadata": {},
   "source": [
    "# Hypothesentests\n",
    "## Erläuterung zu dieser Umgebung\n",
    "- Mit `<Umschalt>` + `<Enter>` ist es möglich Zellen auszuführen\n",
    "- Zellen können beliebig oft und in beliebiger Reihenfolge ausgeführt werden\n",
    "- Alle Variablen/Objekte werden so lange gespeichert bis ein Kernel-Restart durchgeführt wird (Kernel-Reset über Pulldown-Menü `Kernel`)\n",
    "- Ausgaben können direkt in der integrierten, graphischen Benutzeroberfläche (GUI) dargestellt werden (heutzutage werden GUIs oft auch mit _Notebook_ bezeichnet)\n",
    "- Um den Code dieses _Notebooks_ in eine Zelle zu laden muss die Zelle mit dem `%load` Befehl ausgeführt werden\n",
    "## 1. Kolmogorow-Smirnow-Test:"
   ]
  },
  {
   "cell_type": "code",
   "execution_count": null,
   "metadata": {},
   "outputs": [],
   "source": [
    "%load example_KSTest.py"
   ]
  },
  {
   "cell_type": "markdown",
   "metadata": {},
   "source": [
    "## 2. t-Test\n",
    "Quantile der kumulierten Wahrscheinlichkeitsdichtefunktion cdf werden auch _Percent point function_, _inverse of cdf_  oder _percentiles_ genannt"
   ]
  },
  {
   "cell_type": "code",
   "execution_count": 8,
   "metadata": {},
   "outputs": [
    {
     "name": "stdout",
     "output_type": "stream",
     "text": [
      "| -2.21 | >  1.98  ==> H0 verwerfen\n"
     ]
    }
   ],
   "source": [
    "import numpy as np\n",
    "import scipy.stats\n",
    "bar_y1 = 40.79\n",
    "bar_y2 = 43.08\n",
    "s1 = 4.83\n",
    "s2 = 5.52\n",
    "J1 = 50\n",
    "J2 = 50\n",
    "alpha = 0.05\n",
    "nu = J1 + J2 - 2\n",
    "T = (bar_y1 - bar_y2) / np.sqrt(s1**2/J1 + s2**2/J2)\n",
    "t_nu_alphahalbe = scipy.stats.t.ppf(1-alpha/2, nu, 0, 1)\n",
    "if (np.abs(T) < t_nu_alphahalbe):\n",
    "    print('|',\"{:1.2f}\".format(T), '| < oder gleich ', \"{:1.2f}\".format(t_nu_alphahalbe), ' ==> H0 annehmen')\n",
    "else:\n",
    "    print('|',\"{:1.2f}\".format(T), '| > ', \"{:1.2f}\".format(t_nu_alphahalbe), ' ==> H0 verwerfen')"
   ]
  },
  {
   "cell_type": "markdown",
   "metadata": {},
   "source": [
    "## 3. Chi2-Test"
   ]
  },
  {
   "cell_type": "code",
   "execution_count": 32,
   "metadata": {},
   "outputs": [
    {
     "name": "stdout",
     "output_type": "stream",
     "text": [
      "70.22241356643451 70.22241356643451\n",
      "1.0 1.7621885352431106\n",
      "0.5674761695473411\n",
      "0.7656250000000002\n"
     ]
    }
   ],
   "source": [
    "J1 = 50\n",
    "J2 = 50\n",
    "nu1 = J1 - 1\n",
    "nu2 = J2 - 1\n",
    "alpha = 0.05\n",
    "chi2_1 = scipy.stats.chi2.ppf(1-alpha/2, nu1)\n",
    "chi2_2 = scipy.stats.chi2.ppf(1-alpha/2, nu2)\n",
    "F = (chi2_1/nu1) / (chi2_2/nu2)\n",
    "print(chi2_1, chi2_2)\n",
    "F_direkt = scipy.stats.f.ppf(1-alpha/2, nu1, nu2)\n",
    "print( F, F_direkt)\n",
    "print(scipy.stats.f.ppf(alpha/2, nu1, nu2))\n",
    "print(s1**2/s2**2)"
   ]
  },
  {
   "cell_type": "code",
   "execution_count": null,
   "metadata": {},
   "outputs": [],
   "source": []
  }
 ],
 "metadata": {
  "anaconda-cloud": {},
  "kernelspec": {
   "display_name": "Python 3",
   "language": "python",
   "name": "python3"
  },
  "language_info": {
   "codemirror_mode": {
    "name": "ipython",
    "version": 3
   },
   "file_extension": ".py",
   "mimetype": "text/x-python",
   "name": "python",
   "nbconvert_exporter": "python",
   "pygments_lexer": "ipython3",
   "version": "3.6.8"
  }
 },
 "nbformat": 4,
 "nbformat_minor": 4
}
