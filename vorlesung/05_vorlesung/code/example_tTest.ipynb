{
 "cells": [
  {
   "cell_type": "markdown",
   "metadata": {},
   "source": [
    "# t-Test\n",
    "## Erläuterung zu dieser Umgebung\n",
    "- Mit `<Umschalt>` + `<Enter>` ist es möglich Zellen auszuführen\n",
    "- Zellen können beliebig oft und in beliebiger Reihenfolge ausgeführt werden\n",
    "- Alle Variablen/Objekte werden so lange gespeichert bis ein Kernel-Restart durchgeführt wird (Kernel-Reset über Pulldown-Menü `Kernel`)\n",
    "- Ausgaben können direkt in der integrierten, graphischen Benutzeroberfläche (GUI) dargestellt werden (heutzutage werden GUIs oft auch mit _Notebook_ bezeichnet)\n",
    "- Um den Code dieses _Notebooks_ in eine Zelle zu laden muss die Zelle mit dem `%load` Befehl ausgeführt werden"
   ]
  },
  {
   "cell_type": "code",
   "execution_count": null,
   "metadata": {},
   "outputs": [],
   "source": [
    "%load example_tTest.py"
   ]
  }
 ],
 "metadata": {
  "anaconda-cloud": {},
  "kernelspec": {
   "display_name": "Python 3",
   "language": "python",
   "name": "python3"
  },
  "language_info": {
   "codemirror_mode": {
    "name": "ipython",
    "version": 3
   },
   "file_extension": ".py",
   "mimetype": "text/x-python",
   "name": "python",
   "nbconvert_exporter": "python",
   "pygments_lexer": "ipython3",
   "version": "3.6.8"
  }
 },
 "nbformat": 4,
 "nbformat_minor": 4
}
